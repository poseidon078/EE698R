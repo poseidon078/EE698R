{
 "cells": [
  {
   "cell_type": "markdown",
   "id": "described-israel",
   "metadata": {},
   "source": [
    "## Instructions:\n",
    "- You can use NN libraries such as tensorflow, pytorch, etc. But implement NF and importance sampling on your own.\n",
    "- Zero tolerance for plagiarism. Do not copy from Practice and Share; the student who submitted there originally only can use; Github tracks who pushed what code.\n",
    "- Total marks: 50 + 5 (bonus)\n",
    "- Marks will be for plots and explanations. Describe your experiments, observations, challenges-faced, hyper-parameter tuning, etc., in the explanations."
   ]
  },
  {
   "cell_type": "code",
   "execution_count": null,
   "id": "spoken-raleigh",
   "metadata": {},
   "outputs": [],
   "source": [
    "import CodingQuiz1lib as given\n",
    "import numpy as np\n",
    "np.random.seed(5)\n",
    "import matplotlib.pyplot as plt"
   ]
  },
  {
   "cell_type": "markdown",
   "id": "future-multimedia",
   "metadata": {},
   "source": [
    "# Q1: Model a 2D GMM using NF\n",
    "- Prepare the target probability distribution $p_x^*$ as a GMM with 5 components\n",
    "```\n",
    "    ptarget = given.GMM()  \n",
    "    samples = ptarget.sample(5) # to obtain 5 samples\n",
    "    given.plot_samples_2d(samples, filename='target')   # plot the samples in file\n",
    "    ptarget.prob(samples)       # to obtain probability values of samples\n",
    "```\n",
    "- Prepare the source distribution $p_u$ as a Gaussian with zero mean and unit variance. Use `given.Gaussian`.\n",
    "\n",
    "## a.\n",
    "- Given only the samples from the target distribution, train an NF $x=T(u)$ to model that distribution. Use any flow of your choice.\n",
    "- Evaluation:\n",
    "    - Generate samples from the model and plot them using `given.plot_samples_2d()`. Also plot samples from target distribution for comparison. Write your obervations in the markdown block below the plots. [10 marks]\n",
    "    - Generate samples from the given target distribution and estimate their probabilities using the model as well as `ptarget.prob()`. Plot a histogram of the absolute difference in the two probability values. Write your obervations in the markdown block below the plots. [10 marks]\n",
    "\n",
    "## b.\n",
    "- Given only the function `ptarget.prob()` from the target distribution, train an NF to model that distribution.\n",
    "- Evaluation:\n",
    "    - Generate samples from the model and plot them using `given.plot_samples_2d()`. Also plot samples from target distribution for comparison. Write your obervations in the markdown block below the plots. [10 marks]\n",
    "    - Generate samples from the given target distribution and estimate their probabilities using the model as well as `ptarget.prob()`. Plot a histogram of the absolute difference in the two probability values. Write your obervations in the markdown block below the plots. [10 marks]\n",
    "\n",
    "## c. (BONUS)\n",
    "- Draw plots that may help understand your models better. Write your obervations in the markdown block below the plots. [5 marks]"
   ]
  },
  {
   "cell_type": "markdown",
   "id": "hawaiian-friday",
   "metadata": {},
   "source": [
    "## YOUR CODE:"
   ]
  },
  {
   "cell_type": "code",
   "execution_count": null,
   "id": "olympic-singles",
   "metadata": {},
   "outputs": [],
   "source": [
    "ptarget = given.GMM()  \n",
    "samples = ptarget.sample(5) # to obtain 5 samples\n",
    "given.plot_samples_2d(samples, filename='target')   # plot the samples in file\n",
    "ptarget.prob(samples)       # to obtain probability values of samples\n",
    "\n",
    "pu = given.Gaussian(0,1)\n",
    "\n",
    "\n",
    "##### Q1 a. #####\n"
   ]
  },
  {
   "cell_type": "code",
   "execution_count": null,
   "id": "sustained-terror",
   "metadata": {},
   "outputs": [],
   "source": [
    "##### Q1 b. #####\n",
    "\n"
   ]
  },
  {
   "cell_type": "code",
   "execution_count": null,
   "id": "behind-mineral",
   "metadata": {},
   "outputs": [],
   "source": [
    "##### Q1 c. #####\n",
    "\n"
   ]
  },
  {
   "cell_type": "markdown",
   "id": "adjustable-incentive",
   "metadata": {},
   "source": [
    "## YOUR OBSERVATIONS:\n",
    "\n",
    "### Q1 a.\n",
    "\n",
    "### Q1 b.\n",
    "\n",
    "### Q1 c.\n"
   ]
  },
  {
   "cell_type": "markdown",
   "id": "surrounded-philippines",
   "metadata": {},
   "source": [
    "# Q2: Importance Sampling\n",
    "Use the codes and models of Q1 to solve this problem\n",
    "1. Assume you do not have access to `ptarget.sample()` but only to `ptarget.prob()`. Estimate $E[x^2]$ using the NF models of Q1a and Q1b. Write your obervations in the markdown block below the plots. [5 marks]\n",
    "2. Evaluation: Now using the complete class `ptarget`, find $E[x^2]$ and compare it with the value computed in Q2.1. Write your obervations in the markdown block below the plots. [5 marks]"
   ]
  },
  {
   "cell_type": "markdown",
   "id": "spiritual-contents",
   "metadata": {},
   "source": [
    "## YOUR CODE:"
   ]
  },
  {
   "cell_type": "code",
   "execution_count": null,
   "id": "balanced-emphasis",
   "metadata": {},
   "outputs": [],
   "source": [
    "##### Q2.1 #####\n",
    "\n"
   ]
  },
  {
   "cell_type": "code",
   "execution_count": null,
   "id": "specialized-accused",
   "metadata": {},
   "outputs": [],
   "source": [
    "##### Q2.2 #####\n",
    "\n"
   ]
  },
  {
   "cell_type": "markdown",
   "id": "political-chest",
   "metadata": {},
   "source": [
    "## YOUR OBSERVATIONS:\n",
    "\n",
    "### Q2.1\n",
    "\n",
    "### Q2.2\n"
   ]
  }
 ],
 "metadata": {
  "kernelspec": {
   "display_name": "Python 3",
   "language": "python",
   "name": "python3"
  },
  "language_info": {
   "codemirror_mode": {
    "name": "ipython",
    "version": 3
   },
   "file_extension": ".py",
   "mimetype": "text/x-python",
   "name": "python",
   "nbconvert_exporter": "python",
   "pygments_lexer": "ipython3",
   "version": "3.7.1"
  }
 },
 "nbformat": 4,
 "nbformat_minor": 5
}
