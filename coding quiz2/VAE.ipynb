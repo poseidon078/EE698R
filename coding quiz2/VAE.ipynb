{
  "cells": [
    {
      "cell_type": "code",
      "execution_count": 1,
      "metadata": {
        "colab": {
          "base_uri": "https://localhost:8080/"
        },
        "id": "Q0eZ4JPeeZEp",
        "outputId": "a22283f3-8ecf-4639-910c-a116839f2721"
      },
      "outputs": [
        {
          "output_type": "stream",
          "name": "stdout",
          "text": [
            "WARNING:tensorflow:From /usr/local/lib/python3.7/dist-packages/tensorflow/python/compat/v2_compat.py:107: disable_resource_variables (from tensorflow.python.ops.variable_scope) is deprecated and will be removed in a future version.\n",
            "Instructions for updating:\n",
            "non-resource variables are not supported in the long term\n"
          ]
        }
      ],
      "source": [
        "import tensorflow.compat.v1 as tf\n",
        "tf.enable_eager_execution()\n",
        "tf.disable_v2_behavior()\n",
        "from tensorflow.compat.v1 import keras\n",
        "from tensorflow.compat.v1.keras.models import Model\n",
        "from tensorflow.compat.v1.keras.layers import Conv1D, MaxPooling1D, Dense, Input, Reshape, Flatten, Lambda, Conv1DTranspose\n",
        "from tensorflow.compat.v1.keras import backend as K\n",
        "from tensorflow.compat.v1.keras import optimizers\n",
        "import matplotlib.pyplot as plt\n",
        "import numpy as np"
      ]
    },
    {
      "cell_type": "code",
      "source": [
        "import numpy as np\n",
        "np.random.seed(5)\n",
        "import matplotlib.pyplot as plt\n",
        "\n",
        "class Gaussian:\n",
        "    def __init__(self, mu=None, sigma=None) -> None:\n",
        "        '2D Gaussian pdf'\n",
        "        D = 2\n",
        "        self.mu = mu if mu is not None else  10 * (np.random.random(D) - 0.5)\n",
        "        self.sigma = sigma if sigma is not None else 0.05*(np.eye(2) + 0.1*np.random.random((2,2)))\n",
        "        self.sigma = (self.sigma + self.sigma.T)/2   # to make it symmetric\n",
        "        self.sigmainv = np.linalg.inv(self.sigma)\n",
        "        self.Z = 2*np.pi*np.sqrt(np.linalg.det(self.sigma))\n",
        "    def sample(self, S=1):\n",
        "        'return SxD np array'\n",
        "        return np.random.multivariate_normal(self.mu, self.sigma, size=S)\n",
        "    def prob(self, x_s):\n",
        "        'x_s is SxD; returns an np array of len S'\n",
        "        retval = []\n",
        "        for x_mu in (x_s-self.mu):\n",
        "             retval.append(np.exp(-0.5*(x_mu).T.dot(self.sigmainv).dot(x_mu))/self.Z)\n",
        "        return np.array(retval)\n",
        "        \n",
        "class GMM:\n",
        "    def __init__(self, N=5) -> None:\n",
        "        'GMM with N Gaussian components'\n",
        "        self.components = [Gaussian() for _ in range(N)] \n",
        "        self.weights = np.random.random(N)\n",
        "        self.weights /= np.sum(self.weights)\n",
        "    def sample(self, S=1):\n",
        "        print(self.weights)\n",
        "        retval = []\n",
        "        count_z = np.random.multinomial(S, self.weights)\n",
        "        print(count_z)\n",
        "        for z, count in enumerate(count_z):\n",
        "            retval.append(self.components[z].sample(S=count))\n",
        "        return np.vstack(retval)\n",
        "    def prob(self, x_s):\n",
        "        retval = []\n",
        "        p = np.zeros(len(x_s))\n",
        "        for z, w in enumerate(self.weights):\n",
        "            p += w * self.components[z].prob(x_s)\n",
        "        return p\n",
        "\n",
        "def plot_samples_2d(data, filename=None):\n",
        "    'data is SxD'\n",
        "    plt.figure(figsize=(5,5))\n",
        "    plt.scatter(data[:, 0], data[:, 1]) \n",
        "    if filename:\n",
        "        plt.savefig('./%s'%(filename) + \".png\", format=\"png\")"
      ],
      "metadata": {
        "id": "08wfuFmvCTK_"
      },
      "execution_count": 2,
      "outputs": []
    },
    {
      "cell_type": "code",
      "execution_count": 3,
      "metadata": {
        "id": "YOsC8yAbeZE5"
      },
      "outputs": [],
      "source": [
        "# Create encoder network\n",
        "\n",
        "latent_dim = 2 # dimension of latent variable\n",
        "\n",
        "inputs = Input(shape = (2,1))\n",
        "flat = Flatten()(inputs)\n",
        "input=Dense(32, activation = 'relu')(flat)\n",
        "input=Reshape((32,1))(input)\n",
        "\n",
        "conv1 = Conv1D(16, 3, activation = 'relu', padding = \"SAME\")(input)\n",
        "conv1_1 = Conv1D(16, 3, activation = 'relu', padding = \"SAME\")(conv1)\n",
        "pool1 = MaxPooling1D(pool_size = 2, strides = 2)(conv1_1)\n",
        "conv2 = Conv1D(32, 3, activation = 'relu', padding = \"SAME\")(pool1)\n",
        "\n",
        "flat = Flatten()(conv2)\n",
        "input_to_z = Dense(32, activation = 'relu')(flat)\n",
        "mu = Dense(latent_dim, name='mu')(input_to_z)\n",
        "sigma = Dense(latent_dim, name='log_var')(input_to_z)\n",
        "\n",
        "encoder = Model(inputs, (mu, sigma))"
      ]
    },
    {
      "cell_type": "code",
      "execution_count": 4,
      "metadata": {
        "id": "VOGKEV4ieZE8"
      },
      "outputs": [],
      "source": [
        "# create latent distribution function and generate vectors\n",
        "\n",
        "def sampling(args):\n",
        "    mu, sigma = args\n",
        "    epsilon = K.random_normal(shape=(K.shape(mu)[0], latent_dim),\n",
        "                              mean=0., stddev=1.)\n",
        "    return mu + K.exp(sigma) * epsilon\n",
        "\n",
        "z = Lambda(sampling)([mu, sigma])"
      ]
    },
    {
      "cell_type": "code",
      "execution_count": 5,
      "metadata": {
        "colab": {
          "base_uri": "https://localhost:8080/"
        },
        "id": "YgbxBI-2eZE9",
        "outputId": "3d33426b-4f9a-448d-ad43-047d7b678c5e"
      },
      "outputs": [
        {
          "output_type": "stream",
          "name": "stdout",
          "text": [
            "(2, 1) (2, 1) (?, 2)\n"
          ]
        }
      ],
      "source": [
        "#create decoder network which is reverse of encoder\n",
        "decoder_inputs = Input(K.int_shape(z)[1:])\n",
        "dense_layer_d = Dense(32, activation = 'relu')(decoder_inputs)\n",
        "output_from_z_d = Reshape((32,1))(dense_layer_d)\n",
        "trans1_d = Conv1DTranspose(32, 3, padding='same', activation='relu', strides=2)(output_from_z_d)\n",
        "trans1_1_d = Conv1DTranspose(16, 3, padding='same', activation='relu', strides=2)(trans1_d)\n",
        "trans2_d = Conv1DTranspose(1, 3, padding='same', activation='relu')(trans1_1_d)\n",
        "flat = Flatten()(trans2_d)\n",
        "trans2_d = Dense(2)(flat)\n",
        "\n",
        "decoder = Model(decoder_inputs, trans2_d)\n",
        "z_decoded = decoder(z)\n",
        "print(inputs[0].shape, inputs[1].shape, z_decoded.shape)"
      ]
    },
    {
      "cell_type": "code",
      "execution_count": 6,
      "metadata": {
        "colab": {
          "base_uri": "https://localhost:8080/"
        },
        "id": "wtdbhe4eeZFA",
        "outputId": "26ffd0c6-4a9a-41a9-f952-923f2ec0cdd2"
      },
      "outputs": [
        {
          "output_type": "stream",
          "name": "stdout",
          "text": [
            "(2, 1) (2, 1) (?, 2)\n",
            "(2, 1) (2, 1) (?, 2)\n"
          ]
        }
      ],
      "source": [
        "#calculate reconstruction loss and KL divergence\n",
        "\n",
        "class calc_output_with_los(keras.layers.Layer):\n",
        "\n",
        "    def vae_loss(self, x, z_decoded):\n",
        "        import tensorflow\n",
        "        tensorflow.compat.v1.disable_v2_behavior()\n",
        "        x = K.flatten(x)\n",
        "        z_decoded = K.flatten(z_decoded)\n",
        "        \n",
        "        xent_loss = tensorflow.compat.v1.keras.metrics.binary_crossentropy(x, z_decoded)\n",
        "\n",
        "        kl_loss = -5e-4 * K.mean(1 + sigma - K.square(mu) - K.exp(sigma), axis=-1)\n",
        "        return K.mean(xent_loss + kl_loss)\n",
        "\n",
        "    def call(self, inputs):\n",
        "        x = inputs[0]\n",
        "        z_decoded = inputs[1]\n",
        "        loss = self.vae_loss(x, z_decoded)\n",
        "        self.add_loss(loss, inputs=inputs)\n",
        "        return x\n",
        "\n",
        "print(inputs[0].shape, inputs[1].shape, z_decoded.shape)\n",
        "outputs = calc_output_with_los()([inputs, z_decoded])\n",
        "print(inputs[0].shape, inputs[1].shape, z_decoded.shape)"
      ]
    },
    {
      "cell_type": "code",
      "source": [
        "# define variational autoencoder model and train it\n",
        "import seaborn as sns\n",
        "from matplotlib import animation\n",
        "import warnings\n",
        "warnings.filterwarnings('ignore')\n",
        "sns.set()\n",
        "fig, ax = plt.subplots(dpi=100, figsize=(5, 4))\n",
        "batch_size=64*20\n",
        "G=GMM()\n",
        "vae = Model(inputs, outputs)\n",
        "m = 64\n",
        "n_epoch = 50\n",
        "vae.compile(optimizer='adam', loss=None)\n",
        "#vae.compile(optimizer='adam', loss=None, metrics=['accuracy', 'mse', 'mae', 'mape', 'cosine'])\n",
        "def animate(step):\n",
        "  m=64\n",
        "  X_train = np.reshape(G.sample(batch_size), (batch_size, 2, 1))\n",
        "  X_test = X_train\n",
        "  vae.fit(X_train, epochs=1, batch_size=m, shuffle=True, validation_data=(X_test, None))\n",
        "  (m, s)=encoder.predict(X_train)\n",
        "  z = Lambda(sampling)([m, s])\n",
        "  z_decoded=decoder.predict(z, steps=1)\n",
        "  fig.clf()\n",
        "  plt.scatter(z_decoded[:,0], z_decoded[:,1])\n",
        "  plt.scatter(X_train[:,0], X_train[:,1])\n",
        "  plt.xlim([-10,10])\n",
        "  plt.ylim([-10,10])\n",
        "  plt.text(3, 2, \"Epoch {}\".format(step))\n",
        "\n",
        "anim = animation.FuncAnimation(fig, animate, frames=n_epoch, interval = 10)\n",
        "anim.save('basic_animation.mp4', fps=30, extra_args=['-vcodec', 'libx264'])\n",
        "plt.show()"
      ],
      "metadata": {
        "colab": {
          "base_uri": "https://localhost:8080/",
          "height": 1000
        },
        "id": "W-ygHMQ_jsLe",
        "outputId": "11fe5429-60e1-4625-c067-2b6a23a4165a"
      },
      "execution_count": 7,
      "outputs": [
        {
          "output_type": "stream",
          "name": "stdout",
          "text": [
            "WARNING:tensorflow:Output calc_output_with_los missing from loss dictionary. We assume this was done on purpose. The fit and evaluate APIs will not be expecting any data to be passed to calc_output_with_los.\n",
            "[0.08954024 0.30634303 0.34121746 0.01003852 0.25286076]\n",
            "[105 393 454  16 312]\n",
            "Train on 1280 samples, validate on 1280 samples\n",
            "1280/1280 [==============================] - 1s 1ms/sample - loss: -15.3112 - val_loss: -15.4892\n",
            "[0.08954024 0.30634303 0.34121746 0.01003852 0.25286076]\n",
            "[128 383 448   8 313]\n",
            "Train on 1280 samples, validate on 1280 samples\n",
            "1280/1280 [==============================] - 0s 322us/sample - loss: -16.6228 - val_loss: -17.9434\n",
            "[0.08954024 0.30634303 0.34121746 0.01003852 0.25286076]\n",
            "[108 363 440   8 361]\n",
            "Train on 1280 samples, validate on 1280 samples\n",
            "1280/1280 [==============================] - 0s 312us/sample - loss: -21.5681 - val_loss: -24.3428\n",
            "[0.08954024 0.30634303 0.34121746 0.01003852 0.25286076]\n",
            "[119 404 436   7 314]\n",
            "Train on 1280 samples, validate on 1280 samples\n",
            "1280/1280 [==============================] - 0s 298us/sample - loss: -23.7331 - val_loss: -24.6083\n",
            "[0.08954024 0.30634303 0.34121746 0.01003852 0.25286076]\n",
            "[105 387 448   5 335]\n",
            "Train on 1280 samples, validate on 1280 samples\n",
            "1280/1280 [==============================] - 0s 303us/sample - loss: -25.7983 - val_loss: -26.1990\n",
            "[0.08954024 0.30634303 0.34121746 0.01003852 0.25286076]\n",
            "[ 96 405 446  10 323]\n",
            "Train on 1280 samples, validate on 1280 samples\n",
            "1280/1280 [==============================] - 0s 306us/sample - loss: -26.3358 - val_loss: -26.8411\n",
            "[0.08954024 0.30634303 0.34121746 0.01003852 0.25286076]\n",
            "[125 397 460  12 286]\n",
            "Train on 1280 samples, validate on 1280 samples\n",
            "1280/1280 [==============================] - 0s 304us/sample - loss: -30.4418 - val_loss: -32.6978\n",
            "[0.08954024 0.30634303 0.34121746 0.01003852 0.25286076]\n",
            "[104 400 443  11 322]\n",
            "Train on 1280 samples, validate on 1280 samples\n",
            "1280/1280 [==============================] - 0s 317us/sample - loss: -33.9675 - val_loss: -33.9271\n",
            "[0.08954024 0.30634303 0.34121746 0.01003852 0.25286076]\n",
            "[ 92 395 442  18 333]\n",
            "Train on 1280 samples, validate on 1280 samples\n",
            "1280/1280 [==============================] - 0s 320us/sample - loss: -34.0721 - val_loss: -34.0333\n",
            "[0.08954024 0.30634303 0.34121746 0.01003852 0.25286076]\n",
            "[111 410 428  22 309]\n",
            "Train on 1280 samples, validate on 1280 samples\n",
            "1280/1280 [==============================] - 0s 300us/sample - loss: -32.7547 - val_loss: -32.6855\n",
            "[0.08954024 0.30634303 0.34121746 0.01003852 0.25286076]\n",
            "[107 392 449  21 311]\n",
            "Train on 1280 samples, validate on 1280 samples\n",
            "1280/1280 [==============================] - 0s 322us/sample - loss: -33.4799 - val_loss: -33.4516\n",
            "[0.08954024 0.30634303 0.34121746 0.01003852 0.25286076]\n",
            "[ 94 375 450  12 349]\n",
            "Train on 1280 samples, validate on 1280 samples\n",
            "1280/1280 [==============================] - 0s 318us/sample - loss: -34.9974 - val_loss: -34.9565\n",
            "[0.08954024 0.30634303 0.34121746 0.01003852 0.25286076]\n",
            "[121 373 449  14 323]\n",
            "Train on 1280 samples, validate on 1280 samples\n",
            "1280/1280 [==============================] - 0s 304us/sample - loss: -33.7188 - val_loss: -33.6765\n",
            "[0.08954024 0.30634303 0.34121746 0.01003852 0.25286076]\n",
            "[115 421 408  16 320]\n",
            "Train on 1280 samples, validate on 1280 samples\n",
            "1280/1280 [==============================] - 0s 297us/sample - loss: -32.6936 - val_loss: -32.6613\n",
            "[0.08954024 0.30634303 0.34121746 0.01003852 0.25286076]\n",
            "[126 383 412  14 345]\n",
            "Train on 1280 samples, validate on 1280 samples\n",
            "1280/1280 [==============================] - 0s 297us/sample - loss: -33.2523 - val_loss: -33.2108\n",
            "[0.08954024 0.30634303 0.34121746 0.01003852 0.25286076]\n",
            "[113 402 435  10 320]\n",
            "Train on 1280 samples, validate on 1280 samples\n",
            "1280/1280 [==============================] - 0s 322us/sample - loss: -33.2923 - val_loss: -33.2529\n",
            "[0.08954024 0.30634303 0.34121746 0.01003852 0.25286076]\n",
            "[113 407 438  12 310]\n",
            "Train on 1280 samples, validate on 1280 samples\n",
            "1280/1280 [==============================] - 0s 304us/sample - loss: -33.0751 - val_loss: -33.0397\n",
            "[0.08954024 0.30634303 0.34121746 0.01003852 0.25286076]\n",
            "[118 408 418  13 323]\n",
            "Train on 1280 samples, validate on 1280 samples\n",
            "1280/1280 [==============================] - 0s 290us/sample - loss: -32.9169 - val_loss: -32.8797\n",
            "[0.08954024 0.30634303 0.34121746 0.01003852 0.25286076]\n",
            "[129 385 446  13 307]\n",
            "Train on 1280 samples, validate on 1280 samples\n",
            "1280/1280 [==============================] - 0s 303us/sample - loss: -33.0597 - val_loss: -33.0189\n",
            "[0.08954024 0.30634303 0.34121746 0.01003852 0.25286076]\n",
            "[104 429 408  12 327]\n",
            "Train on 1280 samples, validate on 1280 samples\n",
            "1280/1280 [==============================] - 0s 315us/sample - loss: -33.1785 - val_loss: -33.1409\n",
            "[0.08954024 0.30634303 0.34121746 0.01003852 0.25286076]\n",
            "[115 385 453  19 308]\n",
            "Train on 1280 samples, validate on 1280 samples\n",
            "1280/1280 [==============================] - 0s 296us/sample - loss: -33.3528 - val_loss: -33.3105\n",
            "[0.08954024 0.30634303 0.34121746 0.01003852 0.25286076]\n",
            "[123 400 415  14 328]\n",
            "Train on 1280 samples, validate on 1280 samples\n",
            "1280/1280 [==============================] - 0s 293us/sample - loss: -33.0239 - val_loss: -32.9808\n",
            "[0.08954024 0.30634303 0.34121746 0.01003852 0.25286076]\n",
            "[ 91 398 446  11 334]\n",
            "Train on 1280 samples, validate on 1280 samples\n",
            "1280/1280 [==============================] - 0s 305us/sample - loss: -34.5280 - val_loss: -34.4868\n",
            "[0.08954024 0.30634303 0.34121746 0.01003852 0.25286076]\n",
            "[122 372 437  13 336]\n",
            "Train on 1280 samples, validate on 1280 samples\n",
            "1280/1280 [==============================] - 0s 313us/sample - loss: -33.7624 - val_loss: -33.7229\n",
            "[0.08954024 0.30634303 0.34121746 0.01003852 0.25286076]\n",
            "[104 413 439  14 310]\n",
            "Train on 1280 samples, validate on 1280 samples\n",
            "1280/1280 [==============================] - 0s 313us/sample - loss: -33.4253 - val_loss: -33.3840\n",
            "[0.08954024 0.30634303 0.34121746 0.01003852 0.25286076]\n",
            "[101 409 434  17 319]\n",
            "Train on 1280 samples, validate on 1280 samples\n",
            "1280/1280 [==============================] - 1s 439us/sample - loss: -33.4733 - val_loss: -33.4333\n",
            "[0.08954024 0.30634303 0.34121746 0.01003852 0.25286076]\n",
            "[124 374 450  11 321]\n",
            "Train on 1280 samples, validate on 1280 samples\n",
            "1280/1280 [==============================] - 1s 436us/sample - loss: -33.6693 - val_loss: -33.6282\n",
            "[0.08954024 0.30634303 0.34121746 0.01003852 0.25286076]\n",
            "[127 403 429   7 314]\n",
            "Train on 1280 samples, validate on 1280 samples\n",
            "1280/1280 [==============================] - 0s 343us/sample - loss: -32.8818 - val_loss: -32.8428\n",
            "[0.08954024 0.30634303 0.34121746 0.01003852 0.25286076]\n",
            "[123 384 462   9 302]\n",
            "Train on 1280 samples, validate on 1280 samples\n",
            "1280/1280 [==============================] - 0s 309us/sample - loss: -33.4755 - val_loss: -33.4333\n",
            "[0.08954024 0.30634303 0.34121746 0.01003852 0.25286076]\n",
            "[109 403 424  15 329]\n",
            "Train on 1280 samples, validate on 1280 samples\n",
            "1280/1280 [==============================] - 1s 400us/sample - loss: -33.3191 - val_loss: -33.2846\n",
            "[0.08954024 0.30634303 0.34121746 0.01003852 0.25286076]\n",
            "[104 395 433  15 333]\n",
            "Train on 1280 samples, validate on 1280 samples\n",
            "1280/1280 [==============================] - 1s 453us/sample - loss: -33.7786 - val_loss: -33.7381\n",
            "[0.08954024 0.30634303 0.34121746 0.01003852 0.25286076]\n",
            "[ 93 382 444  15 346]\n",
            "Train on 1280 samples, validate on 1280 samples\n",
            "1280/1280 [==============================] - 1s 500us/sample - loss: -34.6667 - val_loss: -34.6240\n",
            "[0.08954024 0.30634303 0.34121746 0.01003852 0.25286076]\n",
            "[112 414 431  20 303]\n",
            "Train on 1280 samples, validate on 1280 samples\n",
            "1280/1280 [==============================] - 0s 294us/sample - loss: -32.6752 - val_loss: -32.6369\n",
            "[0.08954024 0.30634303 0.34121746 0.01003852 0.25286076]\n",
            "[111 392 415  12 350]\n",
            "Train on 1280 samples, validate on 1280 samples\n",
            "1280/1280 [==============================] - 0s 320us/sample - loss: -33.8452 - val_loss: -33.8077\n",
            "[0.08954024 0.30634303 0.34121746 0.01003852 0.25286076]\n",
            "[114 397 426  10 333]\n",
            "Train on 1280 samples, validate on 1280 samples\n",
            "1280/1280 [==============================] - 0s 316us/sample - loss: -33.5337 - val_loss: -33.4953\n",
            "[0.08954024 0.30634303 0.34121746 0.01003852 0.25286076]\n",
            "[120 396 448   6 310]\n",
            "Train on 1280 samples, validate on 1280 samples\n",
            "1280/1280 [==============================] - 0s 310us/sample - loss: -33.5936 - val_loss: -33.5512\n",
            "[0.08954024 0.30634303 0.34121746 0.01003852 0.25286076]\n",
            "[119 397 432  13 319]\n",
            "Train on 1280 samples, validate on 1280 samples\n",
            "1280/1280 [==============================] - 0s 378us/sample - loss: -33.1478 - val_loss: -33.1086\n",
            "[0.08954024 0.30634303 0.34121746 0.01003852 0.25286076]\n",
            "[121 384 445   9 321]\n",
            "Train on 1280 samples, validate on 1280 samples\n",
            "1280/1280 [==============================] - 0s 315us/sample - loss: -33.7046 - val_loss: -33.6642\n",
            "[0.08954024 0.30634303 0.34121746 0.01003852 0.25286076]\n",
            "[116 385 427  21 331]\n",
            "Train on 1280 samples, validate on 1280 samples\n",
            "1280/1280 [==============================] - 0s 298us/sample - loss: -33.4184 - val_loss: -33.3798\n",
            "[0.08954024 0.30634303 0.34121746 0.01003852 0.25286076]\n",
            "[117 402 413  12 336]\n",
            "Train on 1280 samples, validate on 1280 samples\n",
            "1280/1280 [==============================] - 0s 310us/sample - loss: -33.2935 - val_loss: -33.2551\n",
            "[0.08954024 0.30634303 0.34121746 0.01003852 0.25286076]\n",
            "[123 390 436   9 322]\n",
            "Train on 1280 samples, validate on 1280 samples\n",
            "1280/1280 [==============================] - 0s 305us/sample - loss: -33.4315 - val_loss: -33.3920\n",
            "[0.08954024 0.30634303 0.34121746 0.01003852 0.25286076]\n",
            "[102 406 459   9 304]\n",
            "Train on 1280 samples, validate on 1280 samples\n",
            "1280/1280 [==============================] - 0s 315us/sample - loss: -33.7120 - val_loss: -33.6702\n",
            "[0.08954024 0.30634303 0.34121746 0.01003852 0.25286076]\n",
            "[104 407 435  16 318]\n",
            "Train on 1280 samples, validate on 1280 samples\n",
            "1280/1280 [==============================] - 0s 293us/sample - loss: -33.4643 - val_loss: -33.4255\n",
            "[0.08954024 0.30634303 0.34121746 0.01003852 0.25286076]\n",
            "[102 407 419  17 335]\n",
            "Train on 1280 samples, validate on 1280 samples\n",
            "1280/1280 [==============================] - 0s 314us/sample - loss: -33.5388 - val_loss: -33.5000\n",
            "[0.08954024 0.30634303 0.34121746 0.01003852 0.25286076]\n",
            "[124 387 431  11 327]\n",
            "Train on 1280 samples, validate on 1280 samples\n",
            "1280/1280 [==============================] - 0s 318us/sample - loss: -33.2182 - val_loss: -33.1789\n",
            "[0.08954024 0.30634303 0.34121746 0.01003852 0.25286076]\n",
            "[131 381 441  11 316]\n",
            "Train on 1280 samples, validate on 1280 samples\n",
            "1280/1280 [==============================] - 0s 302us/sample - loss: -33.1035 - val_loss: -33.0630\n",
            "[0.08954024 0.30634303 0.34121746 0.01003852 0.25286076]\n",
            "[131 384 430   7 328]\n",
            "Train on 1280 samples, validate on 1280 samples\n",
            "1280/1280 [==============================] - 0s 297us/sample - loss: -33.3009 - val_loss: -33.2617\n",
            "[0.08954024 0.30634303 0.34121746 0.01003852 0.25286076]\n",
            "[112 377 462  11 318]\n",
            "Train on 1280 samples, validate on 1280 samples\n",
            "1280/1280 [==============================] - 0s 327us/sample - loss: -34.2060 - val_loss: -34.1638\n",
            "[0.08954024 0.30634303 0.34121746 0.01003852 0.25286076]\n",
            "[100 416 458   8 298]\n",
            "Train on 1280 samples, validate on 1280 samples\n",
            "1280/1280 [==============================] - 0s 293us/sample - loss: -33.6205 - val_loss: -33.5786\n",
            "[0.08954024 0.30634303 0.34121746 0.01003852 0.25286076]\n",
            "[125 391 421  13 330]\n",
            "Train on 1280 samples, validate on 1280 samples\n",
            "1280/1280 [==============================] - 0s 302us/sample - loss: -33.1949 - val_loss: -33.1561\n",
            "[0.08954024 0.30634303 0.34121746 0.01003852 0.25286076]\n",
            "[ 97 410 423   7 343]\n",
            "Train on 1280 samples, validate on 1280 samples\n",
            "1280/1280 [==============================] - 0s 299us/sample - loss: -34.1264 - val_loss: -34.0879\n",
            "[0.08954024 0.30634303 0.34121746 0.01003852 0.25286076]\n",
            "[111 388 449   8 324]\n",
            "Train on 1280 samples, validate on 1280 samples\n",
            "1280/1280 [==============================] - 0s 310us/sample - loss: -33.9105 - val_loss: -33.8695\n"
          ]
        },
        {
          "output_type": "display_data",
          "data": {
            "text/plain": [
              "<Figure size 500x400 with 1 Axes>"
            ],
            "image/png": "[encoded data removed]"
          },
          "metadata": {}
        }
      ]
    },
    {
      "cell_type": "code",
      "source": [
        "batch_size=1\n",
        "X_train=np.reshape(G.sample(batch_size), (batch_size, 2, 1))\n",
        "(x, y) = encoder.predict(X_train)\n",
        "z = Lambda(sampling)([x, y])\n",
        "sess = tf.Session() #create session \n",
        "sess.run(tf.global_variables_initializer()) #initialize variables\n",
        "z = sess.run(z[:, :]) #evaluate image tensor inside sessio\n",
        "plt.scatter(X_train[:,0], X_train[:,1])\n",
        "plt.scatter(z[:, 0], z[:, 1])\n",
        "plt.xlim([-10,10])\n",
        "plt.ylim([-10,10])\n",
        "plt.show()"
      ],
      "metadata": {
        "colab": {
          "base_uri": "https://localhost:8080/",
          "height": 306
        },
        "id": "FWPDp0_y13k6",
        "outputId": "c57bc4f4-659c-4099-81a2-eb081bf775f3"
      },
      "execution_count": 62,
      "outputs": [
        {
          "output_type": "stream",
          "name": "stdout",
          "text": [
            "[0.08954024 0.30634303 0.34121746 0.01003852 0.25286076]\n",
            "[0 1 0 0 0]\n"
          ]
        },
        {
          "output_type": "display_data",
          "data": {
            "text/plain": [
              "<Figure size 432x288 with 1 Axes>"
            ],
            "image/png": "[encoded data removed]"
          },
          "metadata": {}
        }
      ]
    },
    {
      "cell_type": "code",
      "execution_count": 28,
      "metadata": {
        "colab": {
          "base_uri": "https://localhost:8080/",
          "height": 306
        },
        "id": "xOHyeb9qeZFL",
        "outputId": "561a504f-0a42-480c-a8c2-6e58c449ebc2"
      },
      "outputs": [
        {
          "output_type": "stream",
          "name": "stdout",
          "text": [
            "[0.08954024 0.30634303 0.34121746 0.01003852 0.25286076]\n",
            "[ 51 158 163   7 121]\n"
          ]
        },
        {
          "output_type": "display_data",
          "data": {
            "text/plain": [
              "<Figure size 432x288 with 1 Axes>"
            ],
            "image/png": "[encoded data removed]"
          },
          "metadata": {}
        }
      ],
      "source": [
        "batch_size=500\n",
        "X_train=np.reshape(G.sample(batch_size), (batch_size, 2, 1))\n",
        "(x, y) = encoder.predict(X_train)\n",
        "z = Lambda(sampling)([x, y])\n",
        "sess = tf.Session() #create session \n",
        "sess.run(tf.global_variables_initializer()) #initialize variables\n",
        "z = sess.run(z[:, :]) #evaluate image tensor inside sessio\n",
        "plt.scatter(X_train[:,0], X_train[:,1])\n",
        "plt.scatter(z[:, 0], z[:, 1])\n",
        "plt.xlim([-10,10])\n",
        "plt.ylim([-10,10])\n",
        "plt.show()"
      ]
    }
  ],
  "metadata": {
    "kernelspec": {
      "display_name": "Python 3",
      "language": "python",
      "name": "python3"
    },
    "language_info": {
      "codemirror_mode": {
        "name": "ipython",
        "version": 3
      },
      "file_extension": ".py",
      "mimetype": "text/x-python",
      "name": "python",
      "nbconvert_exporter": "python",
      "pygments_lexer": "ipython3",
      "version": "3.6.6"
    },
    "colab": {
      "name": "VAE.ipynb",
      "provenance": [],
      "collapsed_sections": []
    }
  },
  "nbformat": 4,
  "nbformat_minor": 0
}